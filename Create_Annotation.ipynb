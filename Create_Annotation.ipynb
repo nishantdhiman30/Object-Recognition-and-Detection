{
  "nbformat": 4,
  "nbformat_minor": 0,
  "metadata": {
    "colab": {
      "name": "Create_Annotation.ipynb",
      "provenance": [],
      "authorship_tag": "ABX9TyM06xf2lwzn6kjcesqIQuPw",
      "include_colab_link": true
    },
    "kernelspec": {
      "name": "python3",
      "display_name": "Python 3"
    },
    "language_info": {
      "name": "python"
    }
  },
  "cells": [
    {
      "cell_type": "markdown",
      "metadata": {
        "id": "view-in-github",
        "colab_type": "text"
      },
      "source": [
        "<a href=\"https://colab.research.google.com/github/nishantdhiman30/Object-Recognition-and-Detection/blob/main/Create_Annotation.ipynb\" target=\"_parent\"><img src=\"https://colab.research.google.com/assets/colab-badge.svg\" alt=\"Open In Colab\"/></a>"
      ]
    },
    {
      "cell_type": "code",
      "execution_count": null,
      "metadata": {
        "colab": {
          "base_uri": "https://localhost:8080/"
        },
        "id": "r6tHDczTrPD2",
        "outputId": "360bc55a-61e5-414f-a508-06047a6609ef"
      },
      "outputs": [
        {
          "output_type": "stream",
          "name": "stdout",
          "text": [
            "Mounted at /content/drive\n"
          ]
        }
      ],
      "source": [
        "#Connect google drive\n",
        "from google.colab import drive\n",
        "drive.mount('/content/drive') "
      ]
    },
    {
      "cell_type": "code",
      "source": [
        "#Import Libraries\n",
        "import pandas as pd\n",
        "import os"
      ],
      "metadata": {
        "id": "4TLTEHjDskUn"
      },
      "execution_count": null,
      "outputs": []
    },
    {
      "cell_type": "code",
      "source": [
        "#Read CSV File\n",
        "os.chdir('/content/drive/My Drive/Object_detection_and_recognition/Dataset_and_Annotations/csv_folder')\n",
        "classes_data = pd.read_csv('class-descriptions-boxable.csv', header=None)\n",
        "classes_data.head()"
      ],
      "metadata": {
        "colab": {
          "base_uri": "https://localhost:8080/",
          "height": 206
        },
        "id": "cuPXzgutsqBf",
        "outputId": "3f98c1ce-ec3b-452f-b6d1-57f6e5c731e8"
      },
      "execution_count": null,
      "outputs": [
        {
          "output_type": "execute_result",
          "data": {
            "text/html": [
              "<div>\n",
              "<style scoped>\n",
              "    .dataframe tbody tr th:only-of-type {\n",
              "        vertical-align: middle;\n",
              "    }\n",
              "\n",
              "    .dataframe tbody tr th {\n",
              "        vertical-align: top;\n",
              "    }\n",
              "\n",
              "    .dataframe thead th {\n",
              "        text-align: right;\n",
              "    }\n",
              "</style>\n",
              "<table border=\"1\" class=\"dataframe\">\n",
              "  <thead>\n",
              "    <tr style=\"text-align: right;\">\n",
              "      <th></th>\n",
              "      <th>0</th>\n",
              "      <th>1</th>\n",
              "    </tr>\n",
              "  </thead>\n",
              "  <tbody>\n",
              "    <tr>\n",
              "      <th>0</th>\n",
              "      <td>/m/011k07</td>\n",
              "      <td>Tortoise</td>\n",
              "    </tr>\n",
              "    <tr>\n",
              "      <th>1</th>\n",
              "      <td>/m/011q46kg</td>\n",
              "      <td>Container</td>\n",
              "    </tr>\n",
              "    <tr>\n",
              "      <th>2</th>\n",
              "      <td>/m/012074</td>\n",
              "      <td>Magpie</td>\n",
              "    </tr>\n",
              "    <tr>\n",
              "      <th>3</th>\n",
              "      <td>/m/0120dh</td>\n",
              "      <td>Sea turtle</td>\n",
              "    </tr>\n",
              "    <tr>\n",
              "      <th>4</th>\n",
              "      <td>/m/01226z</td>\n",
              "      <td>Football</td>\n",
              "    </tr>\n",
              "  </tbody>\n",
              "</table>\n",
              "</div>"
            ],
            "text/plain": [
              "             0           1\n",
              "0    /m/011k07    Tortoise\n",
              "1  /m/011q46kg   Container\n",
              "2    /m/012074      Magpie\n",
              "3    /m/0120dh  Sea turtle\n",
              "4    /m/01226z    Football"
            ]
          },
          "metadata": {},
          "execution_count": 3
        }
      ]
    },
    {
      "cell_type": "code",
      "source": [
        "#[Generating Unique Identifiers]\n",
        "\n",
        "\n",
        "#Define required classes\n",
        "classes = ['Cat', 'Dog']\n",
        "\n",
        "class_strings = []\n",
        "#Get the strings corresponding to the class name and store it inside a list called as class_strings\n",
        "for i in classes:\n",
        "  #Extract the first column's elements for matching classes\n",
        "  req_classes = classes_data.loc[classes_data[1] == i]\n",
        "  string = req_classes.iloc[0][0]\n",
        "  print(string)\n",
        "  #Append the strings corresponding to the class name into the list\n",
        "  class_strings.append(string) \n",
        "\n",
        "print(class_strings)\n"
      ],
      "metadata": {
        "colab": {
          "base_uri": "https://localhost:8080/"
        },
        "id": "mNv7FrkjuZQG",
        "outputId": "c297d6a4-8fab-4822-e9e0-c9790ab45a0e"
      },
      "execution_count": null,
      "outputs": [
        {
          "output_type": "stream",
          "name": "stdout",
          "text": [
            "/m/01yrx\n",
            "/m/0bt9lr\n",
            "['/m/01yrx', '/m/0bt9lr']\n"
          ]
        }
      ]
    },
    {
      "cell_type": "code",
      "source": [
        "#Get only required columns from annotations csv file and get rid of NOT required columns\n",
        "annotation_data = pd.read_csv('train-annotations-bbox.csv', \n",
        "                              usecols=['ImageID', \n",
        "                                       'LabelName',\n",
        "                                       'XMin',\n",
        "                                       'XMax',\n",
        "                                       'YMin',\n",
        "                                       'YMax'])\n",
        "annotation_data.head()"
      ],
      "metadata": {
        "id": "cj2Uc0G3w_mQ"
      },
      "execution_count": null,
      "outputs": []
    },
    {
      "cell_type": "code",
      "source": [
        "#Get only records with matching classes (LabelName = class_strings)\n",
        "filtered_class_data = annotation_data.loc[annotation_data['LabelName'].isin(class_strings)].copy()\n",
        "filtered_class_data.head()"
      ],
      "metadata": {
        "id": "fcvt0u9_zlcO"
      },
      "execution_count": null,
      "outputs": []
    },
    {
      "cell_type": "code",
      "source": [
        "#Add new columns that are required for YOLO format\n",
        "filtered_class_data['classNumber'] = ''\n",
        "filtered_class_data['center x'] = ''\n",
        "filtered_class_data['center y'] = ''\n",
        "filtered_class_data['width'] = ''\n",
        "filtered_class_data['height'] = ''\n"
      ],
      "metadata": {
        "id": "p2ZZQzyt0ML1"
      },
      "execution_count": null,
      "outputs": []
    },
    {
      "cell_type": "code",
      "source": [
        "#Iterate through all the class strings and assign a class number according to the order they are appearing in the list\n",
        "for i in range(len(class_strings)):\n",
        "  filtered_class_data.loc[filtered_class_data['LabelName'] == class_strings[i], 'classNumber'] = i\n",
        "\n",
        "#Calculate center x and center y values\n",
        "filtered_class_data['center x'] = (filtered_class_data['XMax'] + filtered_class_data['XMin']) / 2\n",
        "filtered_class_data['center y'] = (filtered_class_data['YMax'] + filtered_class_data['YMin']) / 2\n",
        "\n",
        "#Calculate width and height values\n",
        "filtered_class_data['width'] = filtered_class_data['XMax'] - filtered_class_data['XMin']\n",
        "filtered_class_data['height'] = filtered_class_data['YMax'] - filtered_class_data['YMin']\n",
        "\n",
        "#Generate the dataframe with YOLO required values\n",
        "YOLO_values = filtered_class_data.loc[:, ['ImageID','classNumber','center x','center y','width','height']].copy()\n",
        "YOLO_values.head()"
      ],
      "metadata": {
        "id": "Fej8nXsv0qlm"
      },
      "execution_count": null,
      "outputs": []
    },
    {
      "cell_type": "code",
      "source": [
        "#Change the current directory to the one where we have Images\n",
        "image_path = '/content/drive/My Drive/Object_detection_and_recognition/Dataset_and_Annotations/Dataset/train/Cat_Dog'\n",
        "os.chdir(image_path)\n",
        "\n",
        "#Go through all the image files in the directory \n",
        "#Fullstop in os.walk('.') means the current directory\n",
        "for current_dir, dirs, files in os.walk('.'):\n",
        "  for f in files:\n",
        "    #Check if the files extension ends with '.jpg'\n",
        "    if f.endswith('.jpg'):\n",
        "      #Extract only the title of the image file so that corresponding txt file can be generated with same name \n",
        "      #As per YOLO guidelines\n",
        "      image_title = f[:-4]\n",
        "      #Get matched data\n",
        "      YOLO_file = YOLO_values.loc[YOLO_values['ImageID'] == image_title]\n",
        "\n",
        "      #Create a copy of the above dataframe to avoid any mess\n",
        "      df = YOLO_file.loc[:, ['classNumber', 'center x', 'center y', 'width', 'height']].copy()\n",
        "\n",
        "      save_path = image_path + '/' + image_title + '.txt'\n",
        "\n",
        "      #Generate a text_file containing required data in YOLO format\n",
        "      df.to_csv(save_path, header=False, index=False, sep=' ')"
      ],
      "metadata": {
        "id": "6wxxmGqf4C_E"
      },
      "execution_count": null,
      "outputs": []
    }
  ]
}