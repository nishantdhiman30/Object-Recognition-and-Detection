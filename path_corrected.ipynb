{
  "nbformat": 4,
  "nbformat_minor": 0,
  "metadata": {
    "colab": {
      "name": "path_corrected.ipynb",
      "provenance": [],
      "authorship_tag": "ABX9TyOX36gi/K/wExQz3I8dk5OZ",
      "include_colab_link": true
    },
    "kernelspec": {
      "name": "python3",
      "display_name": "Python 3"
    },
    "language_info": {
      "name": "python"
    }
  },
  "cells": [
    {
      "cell_type": "markdown",
      "metadata": {
        "id": "view-in-github",
        "colab_type": "text"
      },
      "source": [
        "<a href=\"https://colab.research.google.com/github/nishantdhiman30/Object-Recognition-and-Detection/blob/main/path_corrected.ipynb\" target=\"_parent\"><img src=\"https://colab.research.google.com/assets/colab-badge.svg\" alt=\"Open In Colab\"/></a>"
      ]
    },
    {
      "cell_type": "code",
      "execution_count": null,
      "metadata": {
        "colab": {
          "base_uri": "https://localhost:8080/"
        },
        "id": "KSxQgpAwc3fB",
        "outputId": "b630630b-4220-4605-c574-eed9b82cb7f4"
      },
      "outputs": [
        {
          "output_type": "stream",
          "name": "stdout",
          "text": [
            "Mounted at /content/drive\n"
          ]
        }
      ],
      "source": [
        "from google.colab import drive\n",
        "drive.mount('/content/drive')"
      ]
    },
    {
      "cell_type": "code",
      "source": [
        "import os\n",
        "import shutil"
      ],
      "metadata": {
        "id": "rTfnj1b6eCdF"
      },
      "execution_count": null,
      "outputs": []
    },
    {
      "cell_type": "code",
      "source": [
        "#Create symbolic link\n",
        "!ln -s '/content/drive/My Drive/' /currdrive"
      ],
      "metadata": {
        "id": "jsvDHzzDeIAB"
      },
      "execution_count": null,
      "outputs": []
    },
    {
      "cell_type": "code",
      "source": [
        "shutil.move(\"/currdrive/Object_detection_and_recognition/Dataset_and_Annotations/Dataset/train/Cat_Dog\", \"/currdrive/Object_detection_and_recognition/darknet/data/\")"
      ],
      "metadata": {
        "colab": {
          "base_uri": "https://localhost:8080/",
          "height": 35
        },
        "id": "kv2yKjuPeTuu",
        "outputId": "879f21c3-86bb-474a-f234-5e1fd9696dd6"
      },
      "execution_count": null,
      "outputs": [
        {
          "output_type": "execute_result",
          "data": {
            "application/vnd.google.colaboratory.intrinsic+json": {
              "type": "string"
            },
            "text/plain": [
              "'/currdrive/Object_detection_and_recognition/darknet/data/Cat_Dog'"
            ]
          },
          "metadata": {},
          "execution_count": 5
        }
      ]
    }
  ]
}