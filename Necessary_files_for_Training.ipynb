{
  "cells": [
    {
      "cell_type": "markdown",
      "metadata": {
        "id": "view-in-github",
        "colab_type": "text"
      },
      "source": [
        "<a href=\"https://colab.research.google.com/github/nishantdhiman30/Object-Recognition-and-Detection/blob/main/Necessary_files_for_Training.ipynb\" target=\"_parent\"><img src=\"https://colab.research.google.com/assets/colab-badge.svg\" alt=\"Open In Colab\"/></a>"
      ]
    },
    {
      "cell_type": "code",
      "execution_count": null,
      "metadata": {
        "colab": {
          "base_uri": "https://localhost:8080/"
        },
        "id": "XOGmwQuhFzat",
        "outputId": "11013fd7-48ae-4d5a-b023-b9c36d155bcd"
      },
      "outputs": [
        {
          "name": "stdout",
          "output_type": "stream",
          "text": [
            "Drive already mounted at /content/drive; to attempt to forcibly remount, call drive.mount(\"/content/drive\", force_remount=True).\n"
          ]
        }
      ],
      "source": [
        "#Connect Google drive\n",
        "from google.colab import drive\n",
        "drive.mount('/content/drive')"
      ]
    },
    {
      "cell_type": "code",
      "execution_count": null,
      "metadata": {
        "id": "ZGr_k9q1fier"
      },
      "outputs": [],
      "source": [
        "!ln -s '/content/drive/My drive/' /currdrive"
      ]
    },
    {
      "cell_type": "code",
      "execution_count": null,
      "metadata": {
        "id": "d9ph8h_cGQK2"
      },
      "outputs": [],
      "source": [
        "import os"
      ]
    },
    {
      "cell_type": "code",
      "execution_count": null,
      "metadata": {
        "colab": {
          "background_save": true
        },
        "id": "H1dcL7CcGTo6"
      },
      "outputs": [],
      "source": [
        "#Set Image Directory path\n",
        "#/content/drive/My Drive/Object_detection_and_recognition/Dataset_and_Annotations/Dataset/train/\n",
        "image_path = '/currdrive/Object_detection_and_recognition/darknet/data/Cat_Dog'\n",
        "os.chdir(image_path)"
      ]
    },
    {
      "cell_type": "code",
      "execution_count": null,
      "metadata": {
        "id": "GS47Zl_AGkV9"
      },
      "outputs": [],
      "source": [
        "#Iterate through each image found in the directory and save the corresponding path to the list called as path_list\n",
        "\n",
        "path_list = []\n",
        "#Go through all the image files in the directory\n",
        "for current_dir, dirs, files in os.walk('.'):\n",
        "  #Iterating through all the files\n",
        "  for f in files:\n",
        "    #Check if the file extension ends with '.jpg'\n",
        "    if f.endswith('.jpg'):\n",
        "      #Prepare file path to save into train.txt\n",
        "      file_loc = image_path + '/' + f\n",
        "      #Append the path data into \"path_list\". New line character \\n is used to write the new content in next line\n",
        "      path_list.append(file_loc + '\\n')"
      ]
    },
    {
      "cell_type": "code",
      "execution_count": null,
      "metadata": {
        "id": "V6hsmL6cJp_T"
      },
      "outputs": [],
      "source": [
        "#Divide the data into 80:20 ratio. Get 20% of data from path_list\n",
        "#To write into the test.txt file\n",
        "path_list_test = path_list[:int(len(path_list) * 0.20)]\n",
        "\n",
        "#Delete the same 20% records from the path_list as that 20% data is in path_list_test now\n",
        "path_list = path_list[int(len(path_list) * 0.20):]"
      ]
    },
    {
      "cell_type": "code",
      "execution_count": null,
      "metadata": {
        "id": "CbLBbooVAjS8"
      },
      "outputs": [],
      "source": [
        "#Create train.txt fileand write 80% of data (lines) inside it\n",
        "with open('train.txt', 'w') as train:\n",
        "  #Iterate thorugh all the elements in the list\n",
        "  for i in path_list:\n",
        "    #Write the current path at the end of the file\n",
        "    train.write(i)\n",
        "\n",
        "#Create test.txt fileand write 20% of data (lines) inside it\n",
        "with open('test.txt', 'w') as test:\n",
        "  #Iterate thorugh all the elements in the list\n",
        "  for i in path_list_test:\n",
        "    #Write the current path at the end of the file\n",
        "    test.write(i) "
      ]
    },
    {
      "cell_type": "code",
      "execution_count": null,
      "metadata": {
        "id": "aB1PjrpIBUx9"
      },
      "outputs": [],
      "source": [
        "#Initialize the counter\n",
        "i = 0\n",
        "\n",
        "#Create classes.name files by reading content from existing classes.txt file\n",
        "with open(image_path + '/' + 'classes.names', 'w') as cls, \\\n",
        "     open(image_path + '/' + 'classes.txt', 'r') as text:\n",
        "\n",
        "     #Iterate through individual lines in classes.txt file and write them into classes.name file\n",
        "     for l in text:\n",
        "       cls.write(l)\n",
        "\n",
        "       #Increase counter\n",
        "       i += 1"
      ]
    },
    {
      "cell_type": "code",
      "execution_count": null,
      "metadata": {
        "id": "okFkKSVlCN4x"
      },
      "outputs": [],
      "source": [
        "#Create image_data.data\n",
        "with open(image_path + '/' + 'image_data.data', 'w') as data:\n",
        "  #Write number of classes\n",
        "  data.write('classes = ' + str(i) + '\\n')\n",
        "\n",
        "  #Write fully qualified path of the train.txt file\n",
        "  data.write('train = ' + image_path + '/' + 'train.txt' + '\\n')\n",
        "\n",
        "  #Write fully qualified path of the test.txt file\n",
        "  data.write('valid = ' + image_path + '/' + 'test.txt' + '\\n')\n",
        "\n",
        "  #Write fully qualified path of the classes.names file\n",
        "  data.write('names = ' + image_path + '/' + 'classes.names' + '\\n')\n",
        "\n",
        "  #Specify folder path to save trained model weights\n",
        "  data.write('backup = backup')"
      ]
    }
  ],
  "metadata": {
    "colab": {
      "name": "Necessary_files_for_Training.ipynb",
      "provenance": [],
      "authorship_tag": "ABX9TyOslm2qrg/5W3GjhidOD3W4",
      "include_colab_link": true
    },
    "kernelspec": {
      "display_name": "Python 3",
      "name": "python3"
    },
    "language_info": {
      "name": "python"
    }
  },
  "nbformat": 4,
  "nbformat_minor": 0
}